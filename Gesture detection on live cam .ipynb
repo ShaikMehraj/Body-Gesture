{
 "cells": [
  {
   "cell_type": "code",
   "execution_count": null,
   "id": "00d37d39-6378-44b2-ac9e-6690901e58eb",
   "metadata": {},
   "outputs": [],
   "source": [
    "import matplotlib.pyplot as plt\n",
    "from time import time\n",
    "import mediapipe as mp\n",
    "import cv2 as cv\n",
    "import math"
   ]
  },
  {
   "cell_type": "code",
   "execution_count": 2,
   "id": "32fc6506-0749-4edd-a8e8-1d8bd3f63bd9",
   "metadata": {},
   "outputs": [],
   "source": [
    "mpPose = mp.solutions.pose\n",
    "mpDraw = mp.solutions.drawing_utils"
   ]
  },
  {
   "cell_type": "code",
   "execution_count": 3,
   "id": "dc6cf38b-7817-4498-8b6f-1ba887fb4282",
   "metadata": {},
   "outputs": [],
   "source": [
    "pose = mpPose.Pose(\n",
    "    static_image_mode=True,\n",
    "    min_detection_confidence=0.3,\n",
    "    model_complexity=2\n",
    ")"
   ]
  },
  {
   "cell_type": "code",
   "execution_count": 4,
   "id": "1f601fb7-a231-4d73-8901-c816d60eda91",
   "metadata": {},
   "outputs": [],
   "source": [
    "def detectPose(image, pose, display=True):\n",
    "    OutputImage = image.copy()\n",
    "    imageRGB = cv.cvtColor(image, cv.COLOR_BGR2RGB)\n",
    "    results = pose.process(imageRGB)\n",
    "    imgHeight, imgWidth, _ = image.shape\n",
    "    landmarks = []\n",
    "\n",
    "    if results.pose_landmarks:\n",
    "        mpDraw.draw_landmarks(\n",
    "            image=OutputImage,\n",
    "            landmark_list=results.pose_landmarks,\n",
    "            connections=mpPose.POSE_CONNECTIONS\n",
    "        )\n",
    "        for landmark in results.pose_landmarks.landmark:\n",
    "            landmarks.append(\n",
    "                (int(landmark.x * imgWidth),\n",
    "                 int(landmark.y * imgHeight),\n",
    "                 int(landmark.z * imgWidth))\n",
    "            )\n",
    "    if display:\n",
    "        plt.figure(figsize=[22, 22])\n",
    "\n",
    "        plt.subplot(211)\n",
    "        plt.title('Original')\n",
    "        plt.axis('off')\n",
    "        plt.imshow(image[:, :, ::-1])\n",
    "\n",
    "        plt.subplot(212)\n",
    "        plt.title('Output')\n",
    "        plt.axis('off')\n",
    "        plt.imshow(OutputImage[:, :, ::-1])\n",
    "\n",
    "        mpDraw.plot_landmarks(results.pose_world_landmarks, mpPose.POSE_CONNECTIONS)\n",
    "\n",
    "    else:\n",
    "        return OutputImage, landmarks"
   ]
  },
  {
   "cell_type": "code",
   "execution_count": 5,
   "id": "e0a3ba4e-2c91-446b-94bb-6adeb10bd3cf",
   "metadata": {},
   "outputs": [],
   "source": [
    "def calculateAngle(landmark1, landmark2, landmark3):\n",
    "\n",
    "    x1, y1, _ = landmark1\n",
    "    x2, y2, _ = landmark2\n",
    "    x3, y3, _ = landmark3\n",
    "\n",
    "    angle = math.degrees(math.atan2(y3 - y2, x3 - x2) - math.atan2(y1 - y2, x1 - x2))\n",
    "    \n",
    "    if angle < 0:\n",
    "\n",
    "        angle += 360\n",
    "    \n",
    "    return angle"
   ]
  },
  {
   "cell_type": "code",
   "execution_count": null,
   "id": "1277c7c4-c20a-4210-b5f2-efba021c1de0",
   "metadata": {},
   "outputs": [],
   "source": [
    "poseVideo = mpPose.Pose(\n",
    "    static_image_mode=False,\n",
    "    min_detection_confidence=0.5,\n",
    "    model_complexity=1\n",
    ")\n",
    "\n",
    "video = cv.VideoCapture(0)\n",
    "\n",
    "cv.namedWindow('Pose', cv.WINDOW_NORMAL)\n",
    "video.set(3, 1280)\n",
    "video.set(4, 960)\n",
    "time1 = 0\n",
    "\n",
    "while video.isOpened():\n",
    "    ok, frame = video.read()\n",
    "    \n",
    "    if not ok:\n",
    "        break\n",
    "\n",
    "    frameHeight, frameWidth, _ = frame.shape\n",
    "    frame = cv.resize(frame, (int(frameWidth * (640 / frameHeight)), 640))\n",
    "    frame, ol = detectPose(frame, poseVideo, display=False)\n",
    "    time2 = time()\n",
    "    T = time2 - time1\n",
    "\n",
    "    if T > 0:\n",
    "        framesPerSecond = 1.0 / T\n",
    "        if (calculateAngle(ol[24],ol[12],ol[14])<35 and calculateAngle(ol[24],ol[12],ol[14])>10 and calculateAngle(ol[12],ol[14],ol[16])>280 and calculateAngle(ol[12],ol[14],ol[16])<340) :   \n",
    "            cv.putText(frame,'Hii', (950,40),cv.FONT_HERSHEY_PLAIN, 2, (0,255, 0), 3)\n",
    "            \n",
    "        if (calculateAngle(ol[24],ol[12],ol[14])<100 and calculateAngle(ol[24],ol[12],ol[14])>85 and calculateAngle(ol[12],ol[14],ol[16])>280 and calculateAngle(ol[12],ol[14],ol[16])<340\n",
    "            and calculateAngle(ol[23],ol[11],ol[13])<340 and calculateAngle(ol[23],ol[11],ol[13])>265 and calculateAngle(ol[11],ol[13],ol[15])>20 and calculateAngle(ol[11],ol[13],ol[15])<60):   \n",
    "            cv.putText(frame,'Dublebicep', (920,40),cv.FONT_HERSHEY_PLAIN, 2, (0,255, 0), 3)\n",
    "            \n",
    "        if (calculateAngle(ol[24],ol[12],ol[14])<18 and calculateAngle(ol[24],ol[12],ol[14])>10 and calculateAngle(ol[12],ol[14],ol[16])>168 and calculateAngle(ol[12],ol[14],ol[16])<190\n",
    "            and calculateAngle(ol[23],ol[11],ol[13])<360 and calculateAngle(ol[23],ol[11],ol[13])>330 and calculateAngle(ol[11],ol[13],ol[15])>168 and calculateAngle(ol[11],ol[13],ol[15])<190\n",
    "            and calculateAngle(ol[24],ol[26],ol[28])<183 and calculateAngle(ol[24],ol[26],ol[28])>176 and calculateAngle(ol[23],ol[25],ol[27])<183 and calculateAngle(ol[23],ol[25],ol[27])>178):\n",
    "            cv.putText(frame,'STILL', (950,40),cv.FONT_HERSHEY_PLAIN, 2, (0, 255, 0), 3)\n",
    "\n",
    "    time1 = time2\n",
    "    cv.imshow('Pose New', frame)\n",
    "    k = cv.waitKey(1) & 0xFF\n",
    "    if k == 27:\n",
    "        break\n",
    "\n",
    "video.release()"
   ]
  }
 ],
 "metadata": {
  "kernelspec": {
   "display_name": "Python 3 (ipykernel)",
   "language": "python",
   "name": "python3"
  },
  "language_info": {
   "codemirror_mode": {
    "name": "ipython",
    "version": 3
   },
   "file_extension": ".py",
   "mimetype": "text/x-python",
   "name": "python",
   "nbconvert_exporter": "python",
   "pygments_lexer": "ipython3",
   "version": "3.10.14"
  }
 },
 "nbformat": 4,
 "nbformat_minor": 5
}
